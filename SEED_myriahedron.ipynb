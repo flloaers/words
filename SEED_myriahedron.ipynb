{
 "cells": [
  {
   "cell_type": "markdown",
   "metadata": {},
   "source": [
    "``` seed = myriahedron ```"
   ]
  },
  {
   "cell_type": "markdown",
   "metadata": {},
   "source": [
    "## myriahedron\n",
    "> A _myriahedron_ is a polyhedron with a myriad of faces.\n",
    "> \n",
    "> Jarke J. van Wijk. \"Unfolding the Earth: Myriahedral Projections.\" *The Cartographic Journal*, [**45**:1, 32-42](https://doi.org/10.1179/000870408X276594) (2008). (Also available [here](https://t.co/mVsfwLIqjB?amp=1).)\n",
    "\n",
    "###### Family: -hedra.\n",
    "###### Siblings: dodecahedron, amplituhedron."
   ]
  },
  {
   "cell_type": "code",
   "execution_count": null,
   "metadata": {},
   "outputs": [],
   "source": []
  }
 ],
 "metadata": {
  "kernelspec": {
   "display_name": "Python 3",
   "language": "python",
   "name": "python3"
  },
  "language_info": {
   "codemirror_mode": {
    "name": "ipython",
    "version": 3
   },
   "file_extension": ".py",
   "mimetype": "text/x-python",
   "name": "python",
   "nbconvert_exporter": "python",
   "pygments_lexer": "ipython3",
   "version": "3.7.3"
  }
 },
 "nbformat": 4,
 "nbformat_minor": 2
}
