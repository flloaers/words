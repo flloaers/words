{
 "cells": [
  {
   "cell_type": "markdown",
   "metadata": {},
   "source": [
    "# words"
   ]
  },
  {
   "cell_type": "markdown",
   "metadata": {},
   "source": [
    "## myriahedron\n",
    "> A _myriahedron_ is a polyhedron with a myriad of faces.\n",
    "> \n",
    ">  van Wijk, Jarke J. \"Unfolding the Earth: Myriahedral Projections.\" *The Cartographic Journal*, [**45**:1, 32-42](https://doi.org/10.1179/000870408X276594){:target=\"_blank\"} (2008). (Also available [here](https://t.co/mVsfwLIqjB?amp=1){:target=\"_blank\"}.)\n",
    "\n",
    "###### Family: -hedra.\n",
    "###### Siblings: dodecahedron, amplituhedron."
   ]
  },
  {
   "cell_type": "markdown",
   "metadata": {},
   "source": [
    "## graticule\n",
    "<!--#### Etymology\n",
    "from Latin crāticula, diminutive form of crātis (bundle of brush, fascine; framework, network, lattice; bush-harrow)-->\n",
    "\n",
    "<!--1. A grid of horizontal and vertical lines.\n",
    "2. (_specifically, optics_) A reticle. \n",
    "3. (_specifically, geography_) The network of lines of latitude and longitude that make up a coordinate system such as the one used for the Earth. \n",
    "4. A nearly square or nearly rectangular region created by a graticule.-->\n",
    "\n",
    "> A *graticule* is a set of parallels and meridians at equal spacing in degrees.\n",
    "> \n",
    ">  van Wijk, Jarke J. \"Unfolding the Earth: Myriahedral Projections.\" *The Cartographic Journal*, [**45**:1, 32-42](https://doi.org/10.1179/000870408X276594){:target=\"_blank\"} (2008). (Also available [here](https://t.co/mVsfwLIqjB?amp=1){:target=\"_blank\"}.)\n",
    "\n",
    "###### Family: deriving from a Latin diminutive in -(c)ulus, -(c)ula, or -(c)ulum.\n",
    "###### Siblings: malleolus, particle. "
   ]
  },
  {
   "cell_type": "markdown",
   "metadata": {},
   "source": [
    "## sextic \n",
    "> Clarkson, Peter A., and Kerstin Jordaan. \"A Generalised Sextic Freud Weight.\" *arXiv preprint* [*arXiv:2004.00260*](https://arxiv.org/abs/2004.00260){:target=\"_blank\"} (2020).\n",
    "\n",
    "###### Family: polynomial degrees.\n",
    "###### Siblings: constant (0), linear (1), quadratic (2), cubic (3), quartic (4), quintic (5), septic (7), octic (8), nonic (9), decic (10). \n",
    "\n"
   ]
  },
  {
   "cell_type": "markdown",
   "metadata": {},
   "source": [
    "## sexic \n",
    "> I propose to call equations of the sixth, seventh, and the respective higher degrees, by the respective names of *sexic*, *septic*, *octic*, *nonic*, *decic*, &c., *equations*.\n",
    "> \n",
    "> Cockle, James, \"Notes on the Theory of Algebraic Equations.\" *Mechanics Magazine*, [Vol. LV, p. 171](https://books.google.be/books?id=cxIFAAAAQAAJ&pg=PP1&redir_esc=y#v=onepage&q=sexic%20septic%20octic%20nonic%20decic&f=false){:target=\"_blank\"} (1851)."
   ]
  },
  {
   "cell_type": "markdown",
   "metadata": {},
   "source": [
    "## arity \n",
    "> **Definition 1.1.** For $A$ a nonempty set and $n$ a nonnegative integer we define $A^0 = \\lbrace \\varnothing \\rbrace$, and, for $n > 0$, $A^n$ is the set of $n$-tuples of elements from $A^n$ to $A$. An *$n$-ary operation* (or *function*) *on $A$* is any function $f$ from $A^n$ to $A$; $n$ is the *arity* (or *rank*) of $f$. A *finitary* operation is an $n$-ary operation, for some $n$. The image of $\\langle a_1, \\dots, a_n \\rangle$ under an $n$-ary operation $f$ is denoted by $f(a_1,\\dots,a_n)$. An operation $f$ on $A$ is called a *nullary* operation (or *constant*) if its arity is zero; it is completely determined by the image $f(\\varnothing)$ in $A$ of the only element $\\varnothing$ in $A^0$, and as such it is convenient to identify it with the element $f(\\varnothing)$. Thus a nullary operation is thought of as an element of $A$. An operation $f$ on $A$ is *unary*, *binary* or *ternary* if its arity is 1, 2, or 3, respectively.\n",
    "> \n",
    "> Burris, Stanley N., and Sankappanavar, H. P., [*A Course in Universal Algebra*](http://www.math.uwaterloo.ca/~snburris/htdocs/ualg.html){:target=\"_blank\"} (2012)."
   ]
  }
 ],
 "metadata": {
  "kernelspec": {
   "display_name": "Python 3",
   "language": "python",
   "name": "python3"
  },
  "language_info": {
   "codemirror_mode": {
    "name": "ipython",
    "version": 3
   },
   "file_extension": ".py",
   "mimetype": "text/x-python",
   "name": "python",
   "nbconvert_exporter": "python",
   "pygments_lexer": "ipython3",
   "version": "3.7.3"
  }
 },
 "nbformat": 4,
 "nbformat_minor": 2
}
