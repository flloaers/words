{
 "cells": [
  {
   "cell_type": "markdown",
   "metadata": {},
   "source": [
    "``` seed = sextic ```"
   ]
  },
  {
   "cell_type": "markdown",
   "metadata": {},
   "source": [
    "## sextic \n",
    "> We discuss the recurrence coefficients of orthogonal polynomial with respect to a generalised sextic Freud weight \n",
    "\\\\[\\omega(x; t, \\lambda) = \\lvert x\\rvert^{2\\lambda+1} \\exp{\\left(-x^6+tx^2\\right)}, \\quad x \\in \\mathbb{R},\\\\]\n",
    "> with parameters $\\lambda > -1$ and $t \\in \\mathbb{R}$.\n",
    ">\n",
    "> Peter A. Clarkson, and Jordaan Kerstin. \"A Generalised Sextic Freud Weight.\" *arXiv preprint* [*arXiv:2004.00260*](https://arxiv.org/abs/2004.00260) (2020).\n",
    "\n",
    "#### Etymology\n",
    "from the Latin prefix sexa- (“six, sixth”) & the Greek suffix -tic (“pertaining to”).\n",
    "\n",
    "A **sextic polynomial** is a polynomial **of degree 6**. For example, a sextic polynomial in one variable has the form \n",
    "\\\\[a_6 x^6 + a_5 x^5 + a_4 x^4 + a_3 x^3 + a_2 x^2 + a_1 x + a_0, \\\\]\n",
    "where $a_6 \\neq 0$. And so on: a **sextic equation** is an equation whose left-hand side is a sextic polynomial & whose right-hand side is zero, and a **sextic function** is a function defined by a sextic polynomial. The Freud weight in the above quote is said to be **sextic** because the argument of the exponential is a sextic polynomial.\n",
    "\n",
    "\n",
    "###### Family: polynomial degrees.\n",
    "###### Siblings: non-zero constant (0), linear (1), quadratic (2), cubic (3), quartic (4), quintic (5), septic (7), octic (8), nonic (9), decic (10). "
   ]
  },
  {
   "cell_type": "markdown",
   "metadata": {},
   "source": [
    "## sexic \n",
    "\n",
    "> I propose to call equations of the sixth, seventh, and the respective higher degrees, by the respective names of *sexic*, *septic*, *octic*, *nonic*, *decic*, &c., *equations*.\n",
    "> \n",
    "> James Cockle. \"Notes on the Theory of Algebraic Equations.\" *Mechanics Magazine*, [Vol. LV, p. 171](https://books.google.be/books?id=cxIFAAAAQAAJ&pg=PP1&redir_esc=y#v=onepage&q=sexic%20septic%20octic%20nonic%20decic&f=false) (1851).\n",
    "\n",
    "###### Family: polynomial degrees.\n",
    "###### Siblings: non-zero constant (0), linear (1), quadratic (2), cubic (3), quartic (4), quintic (5), septic (7), octic (8), nonic (9), decic (10). "
   ]
  },
  {
   "cell_type": "code",
   "execution_count": 34,
   "metadata": {},
   "outputs": [
    {
     "data": {
      "text/plain": [
       "<sympy.plotting.plot.Plot at 0x12ced1160>"
      ]
     },
     "execution_count": 34,
     "metadata": {},
     "output_type": "execute_result"
    }
   ],
   "source": [
    "import sympy\n",
    "plot_parametric((cos(u)**3)*cos(3*u),(cos(u)**3)*sin(3*u),(u,-5,5))\n"
   ]
  },
  {
   "cell_type": "markdown",
   "metadata": {},
   "source": [
    "## arity \n",
    "> **Definition 1.1.** For $A$ a nonempty set and $n$ a nonnegative integer we define $A^0 = \\lbrace \\varnothing \\rbrace$, and, for $n>0$, $A^n$ is the set of $n$-tuples of elements from $A^n$ to $A$. An *$n$-ary operation* (or *function*) *on $A$* is any function $f$ from $A^n$ to $A$; $n$ is the *arity* (or *rank*) of $f$. A *finitary* operation is an $n$-ary operation, for some $n$. The image of $\\langle a_1,\\dots,a_n \\rangle$ under an $n$-ary operation $f$ is denoted by $f(a_1,\\dots,a_n)$. An operation $f$ on $A$ is called a *nullary* operation (or *constant*) if its arity is zero; it is completely determined by the image $f(\\varnothing)$ in $A$ of the only element $\\varnothing$ in $A^0$, and as such it is convenient to identify it with the element $f(\\varnothing)$. Thus a nullary operation is thought of as an element of $A$. An operation $f$ on $A$ is *unary*, *binary* or *ternary* if its arity is 1, 2, or 3, respectively.\n",
    "> \n",
    "> Stanley N. Burris, and H. P. Sankappanavar. [*A Course in Universal Algebra*](http://www.math.uwaterloo.ca/~snburris/htdocs/ualg.html) (2012)."
   ]
  },
  {
   "cell_type": "code",
   "execution_count": 10,
   "metadata": {},
   "outputs": [],
   "source": [
    "import numpy as np\n",
    "\n",
    "def nullary_function():\n",
    "    return 42\n",
    "\n",
    "def unary_function(x):\n",
    "    return 42*x\n",
    "\n",
    "def NOT(p):\n",
    "    if(p == 0):\n",
    "        return 1\n",
    "    elif(p == 1):\n",
    "        return 0\n",
    "\n",
    "def binary_function(x,y):\n",
    "    return (x+y)\n",
    "\n",
    "def ternary_function(x,y,z):\n",
    "    return x*y*z\n",
    "\n",
    "    "
   ]
  },
  {
   "cell_type": "code",
   "execution_count": null,
   "metadata": {},
   "outputs": [],
   "source": []
  }
 ],
 "metadata": {
  "kernelspec": {
   "display_name": "Python 3",
   "language": "python",
   "name": "python3"
  },
  "language_info": {
   "codemirror_mode": {
    "name": "ipython",
    "version": 3
   },
   "file_extension": ".py",
   "mimetype": "text/x-python",
   "name": "python",
   "nbconvert_exporter": "python",
   "pygments_lexer": "ipython3",
   "version": "3.7.3"
  }
 },
 "nbformat": 4,
 "nbformat_minor": 2
}
