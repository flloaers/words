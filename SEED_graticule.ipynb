{
 "cells": [
  {
   "cell_type": "markdown",
   "metadata": {},
   "source": [
    "``` seed = graticule ```"
   ]
  },
  {
   "cell_type": "markdown",
   "metadata": {},
   "source": [
    "## graticule\n",
    "<!--#### Etymology\n",
    "from Latin crāticula, diminutive form of crātis (bundle of brush, fascine; framework, network, lattice; bush-harrow)-->\n",
    "\n",
    "<!--1. A grid of horizontal and vertical lines.\n",
    "2. (_specifically, optics_) A reticle. \n",
    "3. (_specifically, geography_) The network of lines of latitude and longitude that make up a coordinate system such as the one used for the Earth. \n",
    "4. A nearly square or nearly rectangular region created by a graticule.-->\n",
    "\n",
    "> A *graticule* is a set of parallels and meridians at equal spacing in degrees.\n",
    "> \n",
    "> Jarke J. van Wijk.  \"Unfolding the Earth: Myriahedral Projections.\" *The Cartographic Journal*, [**45**:1, 32-42](https://doi.org/10.1179/000870408X276594) (2008). (Also available [here](https://t.co/mVsfwLIqjB?amp=1).)\n",
    "\n",
    "### Other meanings: \n",
    "* The reticle pattern in an optical instrument. \n",
    "* The grid of lines that serve as reference marks on the display screen of an oscilloscope.\n",
    "\n",
    "![Lissajous curve caption](img/LissajousCurve_p=4_q=9.gif)\n",
    "\n",
    "###### Family: deriving from a Latin diminutive in -(c)ulus, -(c)ula, or -(c)ulum.\n",
    "###### Siblings: reticle, particle. "
   ]
  },
  {
   "cell_type": "markdown",
   "metadata": {},
   "source": [
    "## gridiron \n",
    "> A reticle, or reticule (from Latin *reticulum*, meaning 'net'), also known as a graticule (from Latin *craticula*, meaning 'gridiron'), is a pattern of fine lines or markings built into the eyepiece of a sighting device, such as a telescopic sight in a telescope, a microscope, or the screen of an oscilloscope, to provide measurement references during visual examination.\n",
    "> \n",
    "> “Reticle.” *Wikipedia*, Wikimedia Foundation, 6 May 2020, [https://en.wikipedia.org/wiki/Reticle](https://en.wikipedia.org/wiki/Reticle).\n",
    "\n",
    "Don't put the gridiron on the guéridon. "
   ]
  },
  {
   "cell_type": "code",
   "execution_count": null,
   "metadata": {},
   "outputs": [],
   "source": []
  }
 ],
 "metadata": {
  "kernelspec": {
   "display_name": "Python 3",
   "language": "python",
   "name": "python3"
  },
  "language_info": {
   "codemirror_mode": {
    "name": "ipython",
    "version": 3
   },
   "file_extension": ".py",
   "mimetype": "text/x-python",
   "name": "python",
   "nbconvert_exporter": "python",
   "pygments_lexer": "ipython3",
   "version": "3.7.3"
  }
 },
 "nbformat": 4,
 "nbformat_minor": 2
}
